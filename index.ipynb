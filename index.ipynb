{
 "cells": [
  {
   "cell_type": "markdown",
   "metadata": {
    "nbgrader": {
     "grade": false,
     "grade_id": "d9711a37a90ef7d975169c807fe3359e",
     "locked": true,
     "schema_version": 3,
     "solution": false,
     "task": false
    }
   },
   "source": [
    "## Statistical Testing"
   ]
  },
  {
   "cell_type": "markdown",
   "metadata": {
    "nbgrader": {
     "grade": false,
     "grade_id": "115d78c8c36b2be84a5d73bf311c0afb",
     "locked": true,
     "schema_version": 3,
     "solution": false,
     "task": false
    }
   },
   "source": [
    "You are working for a TexMex restaurant that recently introduced queso to its menu.\n",
    "\n",
    "We have random samples of 1000 \"no queso\" order check totals and 1000 \"queso\" order check totals for orders made by different customers.\n",
    "\n",
    "In the cell below, we load the sample data for you into the arrays `no_queso` and `queso` for the \"no queso\" and \"queso\" order check totals. Then, we create histograms of the distribution of the check amounts for the \"no queso\" and \"queso\" samples. "
   ]
  },
  {
   "cell_type": "code",
   "execution_count": 1,
   "metadata": {
    "nbgrader": {
     "grade": false,
     "grade_id": "2c92e6104aab288cb936d3adcc3fde15",
     "locked": true,
     "schema_version": 3,
     "solution": false,
     "task": false
    }
   },
   "outputs": [],
   "source": [
    "# run this cell without changes\n",
    "\n",
    "import numpy as np\n",
    "import pandas as pd \n",
    "from scipy import stats\n",
    "\n",
    "import matplotlib.pyplot as plt\n",
    "\n",
    "import pickle\n",
    "\n",
    "%matplotlib inline"
   ]
  },
  {
   "cell_type": "code",
   "execution_count": 2,
   "metadata": {
    "nbgrader": {
     "grade": false,
     "grade_id": "d565852e6a7182f2042e0b8b0c052df3",
     "locked": true,
     "schema_version": 3,
     "solution": false,
     "task": false
    }
   },
   "outputs": [
    {
     "data": {
      "image/png": "[encoded data removed]",
      "text/plain": [
       "<Figure size 864x288 with 2 Axes>"
      ]
     },
     "metadata": {
      "needs_background": "light"
     },
     "output_type": "display_data"
    }
   ],
   "source": [
    "# run this cell without changes\n",
    "\n",
    "# load the sample data \n",
    "no_queso = pickle.load(open(\"data/no_queso.pkl\", \"rb\"))\n",
    "queso = pickle.load(open(\"data/queso.pkl\", \"rb\"))\n",
    "\n",
    "# plot histograms\n",
    "fig, (ax1, ax2) = plt.subplots(1, 2, figsize=(12, 4))\n",
    "\n",
    "ax1.set_title('Sample of Non-Queso Check Totals')\n",
    "ax1.set_xlabel('Amount')\n",
    "ax1.set_ylabel('Frequency')\n",
    "ax1.hist(no_queso, bins=20)\n",
    "\n",
    "ax2.set_title('Sample of Queso Check Totals')\n",
    "ax2.set_xlabel('Amount')\n",
    "ax2.set_ylabel('Frequency')\n",
    "ax2.hist(queso, bins=20)\n",
    "plt.show()"
   ]
  },
  {
   "cell_type": "markdown",
   "metadata": {
    "nbgrader": {
     "grade": false,
     "grade_id": "cbee34eabbf4575cd95ff6c1a3658e16",
     "locked": true,
     "schema_version": 3,
     "solution": false,
     "task": false
    }
   },
   "source": [
    "### 1. Hypotheses and Errors\n",
    "\n",
    "The restaurant owners want to know if customers who order queso spend **significantly more *or* significantly less** than customers who do not order queso.\n",
    "\n",
    "#### 1a) Describe the null $H_{0}$ and alternative hypotheses $H_{A}$ for this test."
   ]
  },
  {
   "cell_type": "markdown",
   "metadata": {
    "nbgrader": {
     "grade": true,
     "grade_id": "b2d31bbb13cb9fde3d68510aadc09ddd",
     "locked": false,
     "points": 1,
     "schema_version": 3,
     "solution": true,
     "task": false
    }
   },
   "source": [
    "=== BEGIN MARK SCHEME ===\n",
    "\n",
    "Null hypothesis: Customers who order queso spend the same as those who do not order queso. \n",
    "\n",
    "Alternative hypothesis: Customers who order queso do not spend the same as those who do not order queso. \n",
    "\n",
    "=== END MARK SCHEME ==="
   ]
  },
  {
   "cell_type": "markdown",
   "metadata": {
    "nbgrader": {
     "grade": false,
     "grade_id": "d8384d8eb5560238acca250a2202962f",
     "locked": true,
     "schema_version": 3,
     "solution": false,
     "task": false
    }
   },
   "source": [
    "#### 1b) What does it mean to make `Type I` and `Type II` errors in this specific context?"
   ]
  },
  {
   "cell_type": "markdown",
   "metadata": {
    "nbgrader": {
     "grade": true,
     "grade_id": "02050212950f1175cde525bec6174611",
     "locked": false,
     "points": 1,
     "schema_version": 3,
     "solution": true,
     "task": false
    }
   },
   "source": [
    "=== BEGIN MARK SCHEME ===\n",
    "\n",
    "Type I: (Rejecting the null hypothesis given it's true): Saying queso customers' total check amounts are different than non-queso customers' total check amounts when they are the same.\n",
    "\n",
    "Type II: (Failing to reject the null hypothesis given it's false): Saying queso customers' total check amounts are the same as non-queso customers' total check amounts when they are different.\n",
    "\n",
    "Give partial credit to students who describe what type I and type II errors are, but don't connect it to the specific context\n",
    "\n",
    "=== END MARK SCHEME ==="
   ]
  },
  {
   "cell_type": "markdown",
   "metadata": {
    "nbgrader": {
     "grade": false,
     "grade_id": "86b2da662081b9fcba67cf087cb6a144",
     "locked": true,
     "schema_version": 3,
     "solution": false,
     "task": false
    }
   },
   "source": [
    "### 2. Sample Testing"
   ]
  },
  {
   "cell_type": "markdown",
   "metadata": {
    "nbgrader": {
     "grade": false,
     "grade_id": "38364f4b094ab2dbe4688f2dc54163cc",
     "locked": true,
     "schema_version": 3,
     "solution": false,
     "task": false
    }
   },
   "source": [
    "#### 2a) Run a statistical test on the two samples. Use a significance level of $\\alpha = 0.05$. You can assume the two samples have equal variance. \n",
    "\n",
    "_Hint: Use `scipy.stats`, imported as `stats` above. [Documentation here](https://docs.scipy.org/doc/scipy/reference/stats.html)_"
   ]
  },
  {
   "cell_type": "code",
   "execution_count": 3,
   "metadata": {
    "nbgrader": {
     "grade": true,
     "grade_id": "5d4ca3cdb87c57ff80f83673ecdde45e",
     "locked": false,
     "points": 1,
     "schema_version": 3,
     "solution": true,
     "task": false
    }
   },
   "outputs": [
    {
     "name": "stdout",
     "output_type": "stream",
     "text": [
      "t-test approach\n",
      "Ttest_indResult(statistic=-45.16857748646329, pvalue=1.29670967092511e-307)\n",
      "\n",
      "Critical Region Approach\n",
      "Critical region: (-1.961152014836706, 1.9611520148367056)\n",
      "t: -45.16857748646329\n"
     ]
    }
   ],
   "source": [
    "### BEGIN SOLUTION\n",
    "\n",
    "\"\"\"\n",
    "Because we are not specifying the specific way students must solve\n",
    "this, this needs to be manually graded rather than autograded\n",
    "\"\"\"\n",
    "\n",
    "\"\"\"\n",
    "One approach is to run a two-tailed t-test.  This will show a p-value\n",
    "much smaller than 0.05.  This is more of a \"black-box\" approach where\n",
    "SciPy does all of the math for you\n",
    "\"\"\"\n",
    "print(\"t-test approach\")\n",
    "ttest_result = stats.ttest_ind(no_queso, queso, equal_var=True)\n",
    "p_value = ttest_result.pvalue\n",
    "print(ttest_result)\n",
    "print()\n",
    "\n",
    "\"\"\"\n",
    "Another approach is to compute the t-statistics for the rejection\n",
    "region, and compare that to the test t-statistic.  The t-statistic\n",
    "is much smaller than the lower bound of the critical region\n",
    "\"\"\"\n",
    "\n",
    "# sample sizes\n",
    "n1 = len(no_queso)\n",
    "n2 = len(queso)\n",
    "\n",
    "# degrees of freedom\n",
    "df = n1 + n2 - 2.0\n",
    "\n",
    "print(\"Critical Region Approach\")\n",
    "critical_t = (stats.t.ppf(0.025, df=df), stats.t.ppf(0.975, df=df))\n",
    "print(\"Critical region:\", critical_t)\n",
    "\n",
    "# sample means\n",
    "xbar1 = no_queso.mean()\n",
    "xbar2 = queso.mean()\n",
    "\n",
    "# sample variances\n",
    "v1 = np.var(no_queso, ddof=1)\n",
    "v2 = np.var(queso, ddof=1)\n",
    "\n",
    "# pooled standard deviation\n",
    "svar = ((n1 - 1) * v1 + (n2 - 1) * v2) / df\n",
    "\n",
    "# t-statistic\n",
    "t = (xbar1 - xbar2)/(svar/n1 + svar/n2)**0.5\n",
    "\n",
    "print(\"t:\", t)\n",
    "### END SOLUTION"
   ]
  },
  {
   "cell_type": "markdown",
   "metadata": {
    "nbgrader": {
     "grade": false,
     "grade_id": "335bf59b69a71d6cb5a0420a5a183fd6",
     "locked": true,
     "schema_version": 3,
     "solution": false,
     "task": false
    }
   },
   "source": [
    "#### 2b) Can you reject the null hypothesis at a significance level of $\\alpha = 0.05$?  Assign your answer to the variable `reject`\n",
    "\n",
    "You can either write a mathematical expression, or just replace `None` with `True` or `False`"
   ]
  },
  {
   "cell_type": "code",
   "execution_count": 4,
   "metadata": {
    "nbgrader": {
     "grade": false,
     "grade_id": "cell-05ff57ed2928e4de",
     "locked": false,
     "schema_version": 3,
     "solution": true,
     "task": false
    }
   },
   "outputs": [],
   "source": [
    "# replace None with appropriate code\n",
    "reject = None\n",
    "### BEGIN SOLUTION\n",
    "\n",
    "reject = (p_value < 0.05)\n",
    "\n",
    "### END SOLUTION"
   ]
  },
  {
   "cell_type": "code",
   "execution_count": 5,
   "metadata": {
    "nbgrader": {
     "grade": true,
     "grade_id": "cell-7e8d905bb54d2195",
     "locked": true,
     "points": 1,
     "schema_version": 3,
     "solution": false,
     "task": false
    }
   },
   "outputs": [],
   "source": [
    "# PUT ALL WORK FOR THE ABOVE QUESTION ABOVE THIS CELL\n",
    "# THIS UNALTERABLE CELL CONTAINS HIDDEN TESTS\n",
    "\n",
    "# reject should be a boolean value\n",
    "assert type(reject) == bool or type(reject) == np.bool_\n",
    "\n",
    "### BEGIN HIDDEN TESTS\n",
    "\n",
    "assert reject == True\n",
    "\n",
    "### END HIDDEN TESTS"
   ]
  },
  {
   "cell_type": "markdown",
   "metadata": {
    "nbgrader": {
     "grade": false,
     "grade_id": "cell-a69d7b20b2268177",
     "locked": true,
     "schema_version": 3,
     "solution": false,
     "task": false
    }
   },
   "source": [
    "#### Why or why not? Explain your answer"
   ]
  },
  {
   "cell_type": "markdown",
   "metadata": {
    "nbgrader": {
     "grade": true,
     "grade_id": "2ca3625c51add63b2c030e685c4564d1",
     "locked": false,
     "points": 1,
     "schema_version": 3,
     "solution": true,
     "task": false
    }
   },
   "source": [
    "=== BEGIN MARK SCHEME ===\n",
    "\n",
    "We have enough evidence to reject the null hypothesis at a significance level of alpha = 0.05. We obtain a p-value\n",
    "much smaller than 0.025 (two-tailed test).\n",
    "\n",
    "Alternatively:\n",
    "our t-statistic is smaller than the critical t-statistic.\n",
    "\n",
    "Both answers (p-value or critical t-statistic) are valid.\n",
    "\n",
    "=== END MARK SCHEME ==="
   ]
  }
 ],
 "metadata": {
  "celltoolbar": "Create Assignment",
  "kernelspec": {
   "display_name": "Python 3",
   "language": "python",
   "name": "python3"
  },
  "language_info": {
   "codemirror_mode": {
    "name": "ipython",
    "version": 3
   },
   "file_extension": ".py",
   "mimetype": "text/x-python",
   "name": "python",
   "nbconvert_exporter": "python",
   "pygments_lexer": "ipython3",
   "version": "3.8.5"
  },
  "toc": {
   "base_numbering": 1,
   "nav_menu": {},
   "number_sections": true,
   "sideBar": true,
   "skip_h1_title": false,
   "title_cell": "Table of Contents",
   "title_sidebar": "Contents",
   "toc_cell": false,
   "toc_position": {},
   "toc_section_display": true,
   "toc_window_display": false
  }
 },
 "nbformat": 4,
 "nbformat_minor": 4
}
